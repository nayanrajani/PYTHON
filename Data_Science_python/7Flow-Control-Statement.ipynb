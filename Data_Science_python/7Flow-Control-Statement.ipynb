{
 "cells": [
  {
   "cell_type": "code",
   "execution_count": 1,
   "metadata": {},
   "outputs": [
    {
     "data": {
      "text/plain": [
       "\"\\nIf-else Statement\\n    If(it's raining){\\n         sit inside\\n    }\\n    else{\\n        go out and play football\\n    }\\n        \\n\""
      ]
     },
     "execution_count": 1,
     "metadata": {},
     "output_type": "execute_result"
    }
   ],
   "source": [
    "'''\n",
    "If-else Statement\n",
    "    If(it's raining){\n",
    "         sit inside\n",
    "    }\n",
    "    else{\n",
    "        go out and play football\n",
    "    }\n",
    "        \n",
    "'''"
   ]
  },
  {
   "cell_type": "code",
   "execution_count": 5,
   "metadata": {},
   "outputs": [
    {
     "name": "stdout",
     "output_type": "stream",
     "text": [
      "A  is Greater\n"
     ]
    }
   ],
   "source": [
    "a= 34\n",
    "b=20\n",
    "\n",
    "if b>a:\n",
    "    print(\"B is greater than A\")\n",
    "else:\n",
    "    print(\"A  is Greater\")"
   ]
  },
  {
   "cell_type": "code",
   "execution_count": 6,
   "metadata": {},
   "outputs": [
    {
     "name": "stdout",
     "output_type": "stream",
     "text": [
      "B is greater than A\n"
     ]
    }
   ],
   "source": [
    "a= 10\n",
    "b=20\n",
    "\n",
    "if b>a:\n",
    "    print(\"B is greater than A\")\n",
    "else:\n",
    "    print(\"A  is Greater\")"
   ]
  },
  {
   "cell_type": "code",
   "execution_count": 10,
   "metadata": {},
   "outputs": [
    {
     "name": "stdout",
     "output_type": "stream",
     "text": [
      "B  is Greatest\n"
     ]
    }
   ],
   "source": [
    "a= 34\n",
    "b=60\n",
    "c=40\n",
    "\n",
    "if (a>b) & (a>c):\n",
    "    print(\"A is greatest\")\n",
    "elif(b>a) & (b>c):\n",
    "    print(\"B  is Greatest\")\n",
    "else:\n",
    "    print(\"C is Greatest\")"
   ]
  },
  {
   "cell_type": "code",
   "execution_count": 13,
   "metadata": {},
   "outputs": [
    {
     "name": "stdout",
     "output_type": "stream",
     "text": [
      "value a is present in tup1\n"
     ]
    }
   ],
   "source": [
    "#tuple example\n",
    "tup1 = ('a','b', 'c')\n",
    "if 'a' in tup1:\n",
    "    print(\"value a is present in tup1\")\n",
    "else:\n",
    "    print(\"a is not present\")"
   ]
  },
  {
   "cell_type": "code",
   "execution_count": 14,
   "metadata": {},
   "outputs": [
    {
     "name": "stdout",
     "output_type": "stream",
     "text": [
      "a is not present\n"
     ]
    }
   ],
   "source": [
    "#tuple example\n",
    "tup1 = ('d','b', 'c')\n",
    "if 'a' in tup1:\n",
    "    print(\"value a is present in tup1\")\n",
    "else:\n",
    "    print(\"a is not present\")"
   ]
  },
  {
   "cell_type": "code",
   "execution_count": 15,
   "metadata": {},
   "outputs": [
    {
     "data": {
      "text/plain": [
       "['a', 'z', 'c']"
      ]
     },
     "execution_count": 15,
     "metadata": {},
     "output_type": "execute_result"
    }
   ],
   "source": [
    "#list example\n",
    "l1 = ['a', 'b', 'c']\n",
    "if l1[1] == 'b':\n",
    "    l1[1] = 'z'\n",
    "\n",
    "l1"
   ]
  },
  {
   "cell_type": "code",
   "execution_count": 16,
   "metadata": {},
   "outputs": [
    {
     "data": {
      "text/plain": [
       "{'k1': 10, 'k2': 20, 'k3': 130}"
      ]
     },
     "execution_count": 16,
     "metadata": {},
     "output_type": "execute_result"
    }
   ],
   "source": [
    "#Dictionary\n",
    "d1 = {\"k1\":10, \"k2\":20, \"k3\": 30}\n",
    "if d1['k3'] == 30:\n",
    "    d1['k3'] = d1['k3'] + 100\n",
    "\n",
    "d1"
   ]
  },
  {
   "cell_type": "code",
   "execution_count": 17,
   "metadata": {},
   "outputs": [
    {
     "data": {
      "text/plain": [
       "'\\nLooping\\n    - Looping Statements are used to repeat a task multiple times\\n    - (Example) Keep filing this bucket with a mug of water \"while\" it is not full\\n    - (Example) Keep repeating the song until you close the app!\\n\\n1. While Loop\\n    while condition:\\n        Execute statements\\n'"
      ]
     },
     "execution_count": 17,
     "metadata": {},
     "output_type": "execute_result"
    }
   ],
   "source": [
    "'''\n",
    "Looping\n",
    "    - Looping Statements are used to repeat a task multiple times\n",
    "    - (Example) Keep filing this bucket with a mug of water \"while\" it is not full\n",
    "    - (Example) Keep repeating the song until you close the app!\n",
    "\n",
    "1. While Loop\n",
    "    while condition:\n",
    "        Execute statements\n",
    "'''"
   ]
  },
  {
   "cell_type": "code",
   "execution_count": 18,
   "metadata": {},
   "outputs": [
    {
     "name": "stdout",
     "output_type": "stream",
     "text": [
      "1\n",
      "2\n",
      "3\n",
      "4\n",
      "5\n",
      "6\n",
      "7\n",
      "8\n",
      "9\n",
      "10\n"
     ]
    }
   ],
   "source": [
    "i = 1\n",
    "while i<=10:\n",
    "    print(i)\n",
    "    i = i+1"
   ]
  },
  {
   "cell_type": "code",
   "execution_count": 19,
   "metadata": {},
   "outputs": [
    {
     "name": "stdout",
     "output_type": "stream",
     "text": [
      "2  *  1  =  2\n",
      "2  *  2  =  4\n",
      "2  *  3  =  6\n",
      "2  *  4  =  8\n",
      "2  *  5  =  10\n",
      "2  *  6  =  12\n",
      "2  *  7  =  14\n",
      "2  *  8  =  16\n",
      "2  *  9  =  18\n",
      "2  *  10  =  20\n"
     ]
    }
   ],
   "source": [
    "i = 1\n",
    "n = 2\n",
    "while i <= 10:\n",
    "    print(n, \" * \", i, \" = \", n*i)\n",
    "    i = i+1"
   ]
  },
  {
   "cell_type": "code",
   "execution_count": 20,
   "metadata": {},
   "outputs": [
    {
     "data": {
      "text/plain": [
       "[101, 102, 103, 104, 105, 106]"
      ]
     },
     "execution_count": 20,
     "metadata": {},
     "output_type": "execute_result"
    }
   ],
   "source": [
    "#while with list\n",
    "l1 = [1,2,3,4,5,6]\n",
    "i = 0\n",
    "\n",
    "while i <len(l1):\n",
    "    l1[i] = l1[i]+100\n",
    "    i = i+1\n",
    "\n",
    "l1"
   ]
  },
  {
   "cell_type": "code",
   "execution_count": 21,
   "metadata": {},
   "outputs": [
    {
     "data": {
      "text/plain": [
       "'\\nFor Loop\\n    - For loop is used to iterate over a sequence(tuple, list, dictionary..)\\n    - This is the sintax for for loop\\n        - for val in sequence:\\n            Body\\n'"
      ]
     },
     "execution_count": 21,
     "metadata": {},
     "output_type": "execute_result"
    }
   ],
   "source": [
    "'''\n",
    "For Loop\n",
    "    - For loop is used to iterate over a sequence(tuple, list, dictionary..)\n",
    "    - This is the sintax for for loop\n",
    "        - for val in sequence:\n",
    "            Body\n",
    "'''"
   ]
  },
  {
   "cell_type": "code",
   "execution_count": 22,
   "metadata": {},
   "outputs": [
    {
     "name": "stdout",
     "output_type": "stream",
     "text": [
      "mango\n",
      "grapes\n",
      "apple\n",
      "Orange\n"
     ]
    }
   ],
   "source": [
    "l1 = [\"mango\", \"grapes\",\"apple\", \"Orange\"]\n",
    "\n",
    "for i in l1:\n",
    "    print(i)"
   ]
  },
  {
   "cell_type": "code",
   "execution_count": 23,
   "metadata": {},
   "outputs": [
    {
     "name": "stdout",
     "output_type": "stream",
     "text": [
      "Blue chair\n",
      "Blue book\n",
      "Blue laptop\n",
      "black chair\n",
      "black book\n",
      "black laptop\n",
      "white chair\n",
      "white book\n",
      "white laptop\n"
     ]
    }
   ],
   "source": [
    "l1 = [\"Blue\", \"black\", \"white\"]\n",
    "l2 = [\"chair\", \"book\", \"laptop\"]\n",
    "\n",
    "for i in l1:\n",
    "    for j in l2:\n",
    "        print(i,j)\n",
    "        "
   ]
  }
 ],
 "metadata": {
  "interpreter": {
   "hash": "63fd5069d213b44bf678585dea6b12cceca9941eaf7f819626cde1f2670de90d"
  },
  "kernelspec": {
   "display_name": "Python 3.9.5 64-bit",
   "language": "python",
   "name": "python3"
  },
  "language_info": {
   "codemirror_mode": {
    "name": "ipython",
    "version": 3
   },
   "file_extension": ".py",
   "mimetype": "text/x-python",
   "name": "python",
   "nbconvert_exporter": "python",
   "pygments_lexer": "ipython3",
   "version": "3.9.5"
  },
  "orig_nbformat": 4
 },
 "nbformat": 4,
 "nbformat_minor": 2
}
