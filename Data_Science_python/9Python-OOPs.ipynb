{
 "cells": [
  {
   "cell_type": "code",
   "execution_count": 2,
   "metadata": {},
   "outputs": [
    {
     "data": {
      "text/plain": [
       "'\\nclasses: - class is a template/blue print for a real world entities\\n         - class is a user defined data type\\n            int, float, bool, str\\n        - name of the class start with a capital letter\\n        \\n    example: a mobile phone\\n        - Properties(Attributes)\\n            - color\\n            - cost\\n            - battery life\\n\\n        - Behaviour(Methods)\\n            - make ecalls\\n            - watch videos\\n            - play games\\n\\nObject: - You can see around you, you are surrounded by objects\\n        - Objects are specific instance of a class\\n        example: object are different instance of a class mobile\\n        - Apple\\n        - Motorola\\n        - Samsung\\n\\n'"
      ]
     },
     "execution_count": 2,
     "metadata": {},
     "output_type": "execute_result"
    }
   ],
   "source": [
    "'''\n",
    "classes: - class is a template/blue print for a real world entities\n",
    "         - class is a user defined data type\n",
    "            int, float, bool, str\n",
    "        - name of the class start with a capital letter\n",
    "        \n",
    "    example: a mobile phone\n",
    "        - Properties(Attributes)\n",
    "            - color\n",
    "            - cost\n",
    "            - battery life\n",
    "\n",
    "        - Behaviour(Methods)\n",
    "            - make ecalls\n",
    "            - watch videos\n",
    "            - play games\n",
    "\n",
    "Object: - You can see around you, you are surrounded by objects\n",
    "        - Objects are specific instance of a class\n",
    "        example: object are different instance of a class mobile\n",
    "        - Apple\n",
    "        - Motorola\n",
    "        - Samsung\n",
    "\n",
    "'''"
   ]
  },
  {
   "cell_type": "code",
   "execution_count": 3,
   "metadata": {},
   "outputs": [],
   "source": [
    "class Phone:\n",
    "    def make_call(self):  #Method\n",
    "        print(\"Going to make a call!\")\n",
    "    def play_game(self):\n",
    "        print(\"Will play a game!\")"
   ]
  },
  {
   "cell_type": "code",
   "execution_count": 4,
   "metadata": {},
   "outputs": [],
   "source": [
    "p1 = Phone()"
   ]
  },
  {
   "cell_type": "code",
   "execution_count": 5,
   "metadata": {},
   "outputs": [
    {
     "name": "stdout",
     "output_type": "stream",
     "text": [
      "Going to make a call!\n"
     ]
    }
   ],
   "source": [
    "p1.make_call()"
   ]
  },
  {
   "cell_type": "code",
   "execution_count": 6,
   "metadata": {},
   "outputs": [
    {
     "name": "stdout",
     "output_type": "stream",
     "text": [
      "Will play a game!\n"
     ]
    }
   ],
   "source": [
    "p1.play_game()"
   ]
  },
  {
   "cell_type": "code",
   "execution_count": 7,
   "metadata": {},
   "outputs": [],
   "source": [
    "class Phone:\n",
    "    def set_color(self,color):  #Method\n",
    "        self.color = color\n",
    "    \n",
    "    def set_cost(self,cost):  #Method\n",
    "        self.cost = cost\n",
    "\n",
    "    def show_color(self):  #Method\n",
    "        return self.color\n",
    "    \n",
    "    def show_cost(self):  #Method\n",
    "        return self.cost\n",
    "\n",
    "    def make_call(self):  #Method\n",
    "        print(\"Going to make a call!\")\n",
    "        \n",
    "    def play_game(self):\n",
    "        print(\"Will play a game!\")"
   ]
  },
  {
   "cell_type": "code",
   "execution_count": 8,
   "metadata": {},
   "outputs": [],
   "source": [
    "p2 = Phone()"
   ]
  },
  {
   "cell_type": "code",
   "execution_count": 9,
   "metadata": {},
   "outputs": [],
   "source": [
    "p2.set_color(\"Black\")\n",
    "p2.set_cost(\"5000\")"
   ]
  },
  {
   "cell_type": "code",
   "execution_count": 10,
   "metadata": {},
   "outputs": [
    {
     "data": {
      "text/plain": [
       "'Black'"
      ]
     },
     "execution_count": 10,
     "metadata": {},
     "output_type": "execute_result"
    }
   ],
   "source": [
    "p2.show_color()"
   ]
  },
  {
   "cell_type": "code",
   "execution_count": 11,
   "metadata": {},
   "outputs": [
    {
     "data": {
      "text/plain": [
       "'5000'"
      ]
     },
     "execution_count": 11,
     "metadata": {},
     "output_type": "execute_result"
    }
   ],
   "source": [
    "p2.show_cost()"
   ]
  },
  {
   "cell_type": "code",
   "execution_count": 12,
   "metadata": {},
   "outputs": [
    {
     "data": {
      "text/plain": [
       "'\\nCreating a class with constructor\\n    - in python constructor is initiated with __int__ method\\n    - at the time of creation of a object we can asign all the values.\\n\\n    Without constructor:\\n\\n        class Phone:\\n            def set_color(self,color):  #Method\\n                self.color = color\\n            \\n            def set_cost(self,cost):  #Method\\n                self.cost = cost\\nVS\\n\\n    With constructor:\\n    \\n    class Employee:\\n        def __init__(self, name, age, salary, gender):\\n            self.name = name\\n            self.age = age\\n            self.salary = salary\\n            self.gender = gender\\n\\n        def employee_details(self):\\n            print(\"Name of the Employee is\", self.name)\\n            print(\"age of the Employee is\", self.age)\\n            print(\"salary of the Employee is\", self.salary)\\n            print(\"gender of the Employee is\", self.gender)\\n'"
      ]
     },
     "execution_count": 12,
     "metadata": {},
     "output_type": "execute_result"
    }
   ],
   "source": [
    "'''\n",
    "Creating a class with constructor\n",
    "    - in python constructor is initiated with __int__ method\n",
    "    - at the time of creation of a object we can asign all the values.\n",
    "\n",
    "    Without constructor:\n",
    "\n",
    "        class Phone:\n",
    "            def set_color(self,color):  #Method\n",
    "                self.color = color\n",
    "            \n",
    "            def set_cost(self,cost):  #Method\n",
    "                self.cost = cost\n",
    "VS\n",
    "\n",
    "    With constructor:\n",
    "    \n",
    "    class Employee:\n",
    "        def __init__(self, name, age, salary, gender):\n",
    "            self.name = name\n",
    "            self.age = age\n",
    "            self.salary = salary\n",
    "            self.gender = gender\n",
    "\n",
    "        def employee_details(self):\n",
    "            print(\"Name of the Employee is\", self.name)\n",
    "            print(\"age of the Employee is\", self.age)\n",
    "            print(\"salary of the Employee is\", self.salary)\n",
    "            print(\"gender of the Employee is\", self.gender)\n",
    "'''"
   ]
  },
  {
   "cell_type": "code",
   "execution_count": 16,
   "metadata": {},
   "outputs": [],
   "source": [
    "class Employee:\n",
    "    def __init__(self, name, age, salary, gender):\n",
    "        self.name = name\n",
    "        self.age = age\n",
    "        self.salary = salary\n",
    "        self.gender = gender\n",
    "\n",
    "    def employee_details(self):\n",
    "        print(\"Name of the Employee is\", self.name)\n",
    "        print(\"Age of the Employee is\", self.age)\n",
    "        print(\"Salary of the Employee is\", self.salary)\n",
    "        print(\"Gender of the Employee is\", self.gender)"
   ]
  },
  {
   "cell_type": "code",
   "execution_count": 17,
   "metadata": {},
   "outputs": [],
   "source": [
    "e1 = Employee('Nayan', 24, 400000, 'Male') #Initiating the e1 object"
   ]
  },
  {
   "cell_type": "code",
   "execution_count": 18,
   "metadata": {},
   "outputs": [
    {
     "name": "stdout",
     "output_type": "stream",
     "text": [
      "Name of the Employee is Nayan\n",
      "Age of the Employee is 24\n",
      "Salary of the Employee is 400000\n",
      "Gender of the Employee is Male\n"
     ]
    }
   ],
   "source": [
    "e1.employee_details() #Invoking the employee_details"
   ]
  }
 ],
 "metadata": {
  "interpreter": {
   "hash": "63fd5069d213b44bf678585dea6b12cceca9941eaf7f819626cde1f2670de90d"
  },
  "kernelspec": {
   "display_name": "Python 3.9.5 64-bit",
   "language": "python",
   "name": "python3"
  },
  "language_info": {
   "codemirror_mode": {
    "name": "ipython",
    "version": 3
   },
   "file_extension": ".py",
   "mimetype": "text/x-python",
   "name": "python",
   "nbconvert_exporter": "python",
   "pygments_lexer": "ipython3",
   "version": "3.9.5"
  },
  "orig_nbformat": 4
 },
 "nbformat": 4,
 "nbformat_minor": 2
}
