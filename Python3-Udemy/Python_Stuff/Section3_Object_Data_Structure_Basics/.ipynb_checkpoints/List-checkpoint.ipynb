{
 "cells": [
  {
   "cell_type": "code",
   "execution_count": 1,
   "id": "48f3a4a2",
   "metadata": {},
   "outputs": [],
   "source": [
    "my_list = [1,2,3]"
   ]
  },
  {
   "cell_type": "code",
   "execution_count": 2,
   "id": "575e15e7",
   "metadata": {},
   "outputs": [],
   "source": [
    "my_list2 = ['string', 34, 27.5]"
   ]
  },
  {
   "cell_type": "code",
   "execution_count": 3,
   "id": "cf9ea84a",
   "metadata": {},
   "outputs": [
    {
     "data": {
      "text/plain": [
       "3"
      ]
     },
     "execution_count": 3,
     "metadata": {},
     "output_type": "execute_result"
    }
   ],
   "source": [
    "len(my_list)"
   ]
  },
  {
   "cell_type": "code",
   "execution_count": 4,
   "id": "e4b01420",
   "metadata": {},
   "outputs": [
    {
     "data": {
      "text/plain": [
       "3"
      ]
     },
     "execution_count": 4,
     "metadata": {},
     "output_type": "execute_result"
    }
   ],
   "source": [
    "len(my_list2)"
   ]
  },
  {
   "cell_type": "code",
   "execution_count": 5,
   "id": "46e64c41",
   "metadata": {},
   "outputs": [],
   "source": [
    "my_list = ['one', 'two', 'three']"
   ]
  },
  {
   "cell_type": "code",
   "execution_count": 6,
   "id": "7cc703f2",
   "metadata": {},
   "outputs": [
    {
     "data": {
      "text/plain": [
       "'one'"
      ]
     },
     "execution_count": 6,
     "metadata": {},
     "output_type": "execute_result"
    }
   ],
   "source": [
    "my_list[0]"
   ]
  },
  {
   "cell_type": "code",
   "execution_count": 7,
   "id": "3693289d",
   "metadata": {},
   "outputs": [
    {
     "data": {
      "text/plain": [
       "['two', 'three']"
      ]
     },
     "execution_count": 7,
     "metadata": {},
     "output_type": "execute_result"
    }
   ],
   "source": [
    "my_list[1:]"
   ]
  },
  {
   "cell_type": "code",
   "execution_count": 8,
   "id": "b7b444a3",
   "metadata": {},
   "outputs": [],
   "source": [
    "another_list = [\"four\", 'five']"
   ]
  },
  {
   "cell_type": "code",
   "execution_count": 10,
   "id": "c1e7704f",
   "metadata": {},
   "outputs": [],
   "source": [
    "new_List = my_list + another_list"
   ]
  },
  {
   "cell_type": "code",
   "execution_count": 11,
   "id": "2fda3cc5",
   "metadata": {},
   "outputs": [
    {
     "data": {
      "text/plain": [
       "['one', 'two', 'three', 'four', 'five']"
      ]
     },
     "execution_count": 11,
     "metadata": {},
     "output_type": "execute_result"
    }
   ],
   "source": [
    "new_List"
   ]
  },
  {
   "cell_type": "code",
   "execution_count": 12,
   "id": "27634e5e",
   "metadata": {},
   "outputs": [],
   "source": [
    "new_List[0] = \"ONE All CAP\""
   ]
  },
  {
   "cell_type": "code",
   "execution_count": 13,
   "id": "b2c6ab0d",
   "metadata": {},
   "outputs": [
    {
     "data": {
      "text/plain": [
       "['ONE All CAP', 'two', 'three', 'four', 'five']"
      ]
     },
     "execution_count": 13,
     "metadata": {},
     "output_type": "execute_result"
    }
   ],
   "source": [
    "new_List"
   ]
  },
  {
   "cell_type": "code",
   "execution_count": 14,
   "id": "0a7e74e9",
   "metadata": {},
   "outputs": [],
   "source": [
    "new_List.append(\"SIX\")"
   ]
  },
  {
   "cell_type": "code",
   "execution_count": 15,
   "id": "faac4d45",
   "metadata": {},
   "outputs": [
    {
     "data": {
      "text/plain": [
       "['ONE All CAP', 'two', 'three', 'four', 'five', 'SIX']"
      ]
     },
     "execution_count": 15,
     "metadata": {},
     "output_type": "execute_result"
    }
   ],
   "source": [
    "new_List"
   ]
  },
  {
   "cell_type": "code",
   "execution_count": 16,
   "id": "e2ef5544",
   "metadata": {},
   "outputs": [],
   "source": [
    "new_List.append(\"SEVEN\")"
   ]
  },
  {
   "cell_type": "code",
   "execution_count": 17,
   "id": "09ab128b",
   "metadata": {},
   "outputs": [
    {
     "data": {
      "text/plain": [
       "['ONE All CAP', 'two', 'three', 'four', 'five', 'SIX', 'SEVEN']"
      ]
     },
     "execution_count": 17,
     "metadata": {},
     "output_type": "execute_result"
    }
   ],
   "source": [
    "new_List"
   ]
  },
  {
   "cell_type": "code",
   "execution_count": 18,
   "id": "db09b524",
   "metadata": {},
   "outputs": [
    {
     "data": {
      "text/plain": [
       "'SEVEN'"
      ]
     },
     "execution_count": 18,
     "metadata": {},
     "output_type": "execute_result"
    }
   ],
   "source": [
    "new_List.pop()"
   ]
  },
  {
   "cell_type": "code",
   "execution_count": 19,
   "id": "4d4e68da",
   "metadata": {},
   "outputs": [
    {
     "data": {
      "text/plain": [
       "['ONE All CAP', 'two', 'three', 'four', 'five', 'SIX']"
      ]
     },
     "execution_count": 19,
     "metadata": {},
     "output_type": "execute_result"
    }
   ],
   "source": [
    "new_List"
   ]
  },
  {
   "cell_type": "code",
   "execution_count": 22,
   "id": "db09d6ff",
   "metadata": {},
   "outputs": [],
   "source": [
    "popped_item = new_List.pop()"
   ]
  },
  {
   "cell_type": "code",
   "execution_count": 23,
   "id": "417165ec",
   "metadata": {},
   "outputs": [
    {
     "data": {
      "text/plain": [
       "'SIX'"
      ]
     },
     "execution_count": 23,
     "metadata": {},
     "output_type": "execute_result"
    }
   ],
   "source": [
    "popped_item"
   ]
  },
  {
   "cell_type": "code",
   "execution_count": 24,
   "id": "efcfe519",
   "metadata": {},
   "outputs": [
    {
     "data": {
      "text/plain": [
       "['ONE All CAP', 'two', 'three', 'four', 'five']"
      ]
     },
     "execution_count": 24,
     "metadata": {},
     "output_type": "execute_result"
    }
   ],
   "source": [
    "new_List"
   ]
  },
  {
   "cell_type": "code",
   "execution_count": 25,
   "id": "b4454765",
   "metadata": {},
   "outputs": [
    {
     "data": {
      "text/plain": [
       "'ONE All CAP'"
      ]
     },
     "execution_count": 25,
     "metadata": {},
     "output_type": "execute_result"
    }
   ],
   "source": [
    "new_List.pop(0)"
   ]
  },
  {
   "cell_type": "code",
   "execution_count": 26,
   "id": "73bd0015",
   "metadata": {},
   "outputs": [
    {
     "data": {
      "text/plain": [
       "['two', 'three', 'four', 'five']"
      ]
     },
     "execution_count": 26,
     "metadata": {},
     "output_type": "execute_result"
    }
   ],
   "source": [
    "new_List"
   ]
  },
  {
   "cell_type": "code",
   "execution_count": 27,
   "id": "468a1e19",
   "metadata": {},
   "outputs": [],
   "source": [
    "letters = ['a', 'g', 't', 'y', 'l']\n",
    "number = [1,5,8,3,2,5]"
   ]
  },
  {
   "cell_type": "code",
   "execution_count": 33,
   "id": "23f3c8b4",
   "metadata": {},
   "outputs": [],
   "source": [
    "letters.sort()"
   ]
  },
  {
   "cell_type": "code",
   "execution_count": 34,
   "id": "a9ccafc2",
   "metadata": {},
   "outputs": [],
   "source": [
    "number.sort()"
   ]
  },
  {
   "cell_type": "code",
   "execution_count": 35,
   "id": "b2872956",
   "metadata": {},
   "outputs": [
    {
     "data": {
      "text/plain": [
       "['a', 'g', 'l', 't', 'y']"
      ]
     },
     "execution_count": 35,
     "metadata": {},
     "output_type": "execute_result"
    }
   ],
   "source": [
    "letters"
   ]
  },
  {
   "cell_type": "code",
   "execution_count": 36,
   "id": "60f4df1c",
   "metadata": {},
   "outputs": [
    {
     "data": {
      "text/plain": [
       "[1, 2, 3, 5, 5, 8]"
      ]
     },
     "execution_count": 36,
     "metadata": {},
     "output_type": "execute_result"
    }
   ],
   "source": [
    "number"
   ]
  },
  {
   "cell_type": "code",
   "execution_count": 38,
   "id": "c2040af8",
   "metadata": {},
   "outputs": [],
   "source": [
    "letters.reverse()"
   ]
  },
  {
   "cell_type": "code",
   "execution_count": 39,
   "id": "941d2c6e",
   "metadata": {},
   "outputs": [],
   "source": [
    "number.reverse()"
   ]
  },
  {
   "cell_type": "code",
   "execution_count": 40,
   "id": "16950724",
   "metadata": {},
   "outputs": [
    {
     "data": {
      "text/plain": [
       "['y', 't', 'l', 'g', 'a']"
      ]
     },
     "execution_count": 40,
     "metadata": {},
     "output_type": "execute_result"
    }
   ],
   "source": [
    "letters"
   ]
  },
  {
   "cell_type": "code",
   "execution_count": 41,
   "id": "79fc8e45",
   "metadata": {},
   "outputs": [
    {
     "data": {
      "text/plain": [
       "[8, 5, 5, 3, 2, 1]"
      ]
     },
     "execution_count": 41,
     "metadata": {},
     "output_type": "execute_result"
    }
   ],
   "source": [
    "number"
   ]
  },
  {
   "cell_type": "code",
   "execution_count": null,
   "id": "819b0627",
   "metadata": {},
   "outputs": [],
   "source": []
  }
 ],
 "metadata": {
  "kernelspec": {
   "display_name": "Python 3 (ipykernel)",
   "language": "python",
   "name": "python3"
  },
  "language_info": {
   "codemirror_mode": {
    "name": "ipython",
    "version": 3
   },
   "file_extension": ".py",
   "mimetype": "text/x-python",
   "name": "python",
   "nbconvert_exporter": "python",
   "pygments_lexer": "ipython3",
   "version": "3.9.12"
  }
 },
 "nbformat": 4,
 "nbformat_minor": 5
}
