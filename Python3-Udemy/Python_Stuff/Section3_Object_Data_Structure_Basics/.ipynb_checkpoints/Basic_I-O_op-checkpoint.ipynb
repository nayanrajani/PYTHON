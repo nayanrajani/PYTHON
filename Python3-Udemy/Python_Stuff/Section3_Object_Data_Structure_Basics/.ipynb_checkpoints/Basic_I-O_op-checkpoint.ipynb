{
 "cells": [
  {
   "cell_type": "markdown",
   "id": "247f5cd2",
   "metadata": {},
   "source": [
    "### Create File"
   ]
  },
  {
   "cell_type": "code",
   "execution_count": 1,
   "id": "706d3461",
   "metadata": {},
   "outputs": [
    {
     "name": "stdout",
     "output_type": "stream",
     "text": [
      "Writing myfile.txt\n"
     ]
    }
   ],
   "source": [
    "%%writefile myfile.txt\n",
    "Hello this is a text file\n",
    "second line\n",
    "third line"
   ]
  },
  {
   "cell_type": "code",
   "execution_count": 2,
   "id": "6f461bdd",
   "metadata": {},
   "outputs": [],
   "source": [
    "myfile = open('myfile.txt')"
   ]
  },
  {
   "cell_type": "code",
   "execution_count": 3,
   "id": "77768229",
   "metadata": {},
   "outputs": [
    {
     "data": {
      "text/plain": [
       "'C:\\\\Users\\\\nayan.rajani\\\\Development\\\\PYTHON\\\\Python3-Udemy\\\\Python_Stuff\\\\Section3_Object_Data_Structure_Basics'"
      ]
     },
     "execution_count": 3,
     "metadata": {},
     "output_type": "execute_result"
    }
   ],
   "source": [
    "pwd"
   ]
  },
  {
   "cell_type": "code",
   "execution_count": 4,
   "id": "61d30c15",
   "metadata": {},
   "outputs": [],
   "source": [
    "myfile = open('myfile.txt')"
   ]
  },
  {
   "cell_type": "code",
   "execution_count": 5,
   "id": "ecfa9355",
   "metadata": {},
   "outputs": [
    {
     "data": {
      "text/plain": [
       "'Hello this is a text file\\nsecond line\\nthird line\\n'"
      ]
     },
     "execution_count": 5,
     "metadata": {},
     "output_type": "execute_result"
    }
   ],
   "source": [
    "myfile.read()"
   ]
  },
  {
   "cell_type": "code",
   "execution_count": 6,
   "id": "d817f382",
   "metadata": {},
   "outputs": [
    {
     "data": {
      "text/plain": [
       "''"
      ]
     },
     "execution_count": 6,
     "metadata": {},
     "output_type": "execute_result"
    }
   ],
   "source": [
    "myfile.read()"
   ]
  },
  {
   "cell_type": "code",
   "execution_count": 7,
   "id": "c576cbab",
   "metadata": {},
   "outputs": [
    {
     "data": {
      "text/plain": [
       "0"
      ]
     },
     "execution_count": 7,
     "metadata": {},
     "output_type": "execute_result"
    }
   ],
   "source": [
    "myfile.seek(0) #need to reset the cursor"
   ]
  },
  {
   "cell_type": "code",
   "execution_count": 8,
   "id": "710c66cf",
   "metadata": {},
   "outputs": [
    {
     "data": {
      "text/plain": [
       "'Hello this is a text file\\nsecond line\\nthird line\\n'"
      ]
     },
     "execution_count": 8,
     "metadata": {},
     "output_type": "execute_result"
    }
   ],
   "source": [
    "myfile.read()"
   ]
  },
  {
   "cell_type": "code",
   "execution_count": 9,
   "id": "1ccaf3a6",
   "metadata": {},
   "outputs": [
    {
     "data": {
      "text/plain": [
       "0"
      ]
     },
     "execution_count": 9,
     "metadata": {},
     "output_type": "execute_result"
    }
   ],
   "source": [
    "myfile.seek(0) #need to reset the cursor"
   ]
  },
  {
   "cell_type": "code",
   "execution_count": 10,
   "id": "7977ffe6",
   "metadata": {},
   "outputs": [
    {
     "data": {
      "text/plain": [
       "['Hello this is a text file\\n', 'second line\\n', 'third line\\n']"
      ]
     },
     "execution_count": 10,
     "metadata": {},
     "output_type": "execute_result"
    }
   ],
   "source": [
    "myfile.readlines()"
   ]
  },
  {
   "cell_type": "markdown",
   "id": "b966c8d4",
   "metadata": {},
   "source": [
    "### File Location"
   ]
  },
  {
   "cell_type": "code",
   "execution_count": 12,
   "id": "a4da37b7",
   "metadata": {},
   "outputs": [],
   "source": [
    "myfile.close()"
   ]
  },
  {
   "cell_type": "code",
   "execution_count": 15,
   "id": "8e8e4e72",
   "metadata": {},
   "outputs": [],
   "source": [
    "#now we no longer need to close the file\n",
    "with open('myfile.txt') as my_new_file: \n",
    "    contents = my_new_file.read()"
   ]
  },
  {
   "cell_type": "code",
   "execution_count": 16,
   "id": "788baa31",
   "metadata": {},
   "outputs": [
    {
     "data": {
      "text/plain": [
       "'Hello this is a text file\\nsecond line\\nthird line\\n'"
      ]
     },
     "execution_count": 16,
     "metadata": {},
     "output_type": "execute_result"
    }
   ],
   "source": [
    "contents"
   ]
  },
  {
   "cell_type": "code",
   "execution_count": 19,
   "id": "b87af334",
   "metadata": {},
   "outputs": [],
   "source": [
    "#To read\n",
    "with open('myfile.txt', mode='r') as myfile:\n",
    "    contents = myfile.read()"
   ]
  },
  {
   "cell_type": "code",
   "execution_count": 18,
   "id": "7d7fe471",
   "metadata": {},
   "outputs": [
    {
     "data": {
      "text/plain": [
       "'Hello this is a text file\\nsecond line\\nthird line\\n'"
      ]
     },
     "execution_count": 18,
     "metadata": {},
     "output_type": "execute_result"
    }
   ],
   "source": [
    "contents"
   ]
  },
  {
   "cell_type": "markdown",
   "id": "4565d08c",
   "metadata": {},
   "source": [
    "#### Note \n",
    "#w to overwrite a file\n",
    "#a to add-on to a file\n",
    "#r+ to reading & writing a file\n",
    "#w+ to writing & reading a file"
   ]
  },
  {
   "cell_type": "code",
   "execution_count": 22,
   "id": "297e0ef9",
   "metadata": {},
   "outputs": [],
   "source": [
    "#r to read a file\n",
    "with open('myfile.txt', mode='r') as myfile:\n",
    "    contents = myfile.read()"
   ]
  },
  {
   "cell_type": "code",
   "execution_count": 23,
   "id": "53963a9e",
   "metadata": {},
   "outputs": [
    {
     "name": "stdout",
     "output_type": "stream",
     "text": [
      "Overwriting new_file.txt\n"
     ]
    }
   ],
   "source": [
    "%%writefile new_file.txt\n",
    "Hello this is a text file\n",
    "One on First Line\n",
    "Two on Second Line\n",
    "Three on Third line"
   ]
  },
  {
   "cell_type": "code",
   "execution_count": 24,
   "id": "adaa43bd",
   "metadata": {},
   "outputs": [
    {
     "name": "stdout",
     "output_type": "stream",
     "text": [
      "Hello this is a text file\n",
      "One on First Line\n",
      "Two on Second Line\n",
      "Three on Third line\n",
      "\n"
     ]
    }
   ],
   "source": [
    "with open('new_file.txt', mode = 'r') as f:\n",
    "    print(f.read())"
   ]
  },
  {
   "cell_type": "code",
   "execution_count": null,
   "id": "1201e041",
   "metadata": {},
   "outputs": [],
   "source": []
  }
 ],
 "metadata": {
  "kernelspec": {
   "display_name": "Python 3 (ipykernel)",
   "language": "python",
   "name": "python3"
  },
  "language_info": {
   "codemirror_mode": {
    "name": "ipython",
    "version": 3
   },
   "file_extension": ".py",
   "mimetype": "text/x-python",
   "name": "python",
   "nbconvert_exporter": "python",
   "pygments_lexer": "ipython3",
   "version": "3.9.12"
  }
 },
 "nbformat": 4,
 "nbformat_minor": 5
}
