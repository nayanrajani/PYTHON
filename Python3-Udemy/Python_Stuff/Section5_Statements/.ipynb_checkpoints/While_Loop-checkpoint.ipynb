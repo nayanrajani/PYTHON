{
 "cells": [
  {
   "cell_type": "markdown",
   "id": "eaab04bd",
   "metadata": {},
   "source": [
    "While Loops will continue to execute the block of code while some condition remains true."
   ]
  },
  {
   "cell_type": "code",
   "execution_count": 6,
   "id": "ca67fc44",
   "metadata": {},
   "outputs": [
    {
     "name": "stdout",
     "output_type": "stream",
     "text": [
      "The current value of n is 0\n",
      "The current value of n is 1\n",
      "The current value of n is 2\n",
      "The current value of n is 3\n",
      "The current value of n is 4\n",
      "n is not less than 5\n"
     ]
    }
   ],
   "source": [
    "n = 0\n",
    "\n",
    "while n < 5:\n",
    "    print(f'The current value of n is {n}')\n",
    "    n = n + 1\n",
    "else:\n",
    "    print(\"n is not less than 5\")"
   ]
  },
  {
   "cell_type": "markdown",
   "id": "9eb53f42",
   "metadata": {},
   "source": [
    "#### break, continue, pass\n",
    "\n",
    "we can use break, continue, pass statements in our loops to add additional functionality for various cases. the three statements are defined by:\n",
    "1. break: Breaks out of the current closest enclosing loop.\n",
    "2. continue: Goes to the top of the closest enclosing loop.\n",
    "3. pass: does nothing at all."
   ]
  },
  {
   "cell_type": "code",
   "execution_count": 8,
   "id": "b4ee6cc0",
   "metadata": {},
   "outputs": [
    {
     "name": "stdout",
     "output_type": "stream",
     "text": [
      "End of the Script\n"
     ]
    }
   ],
   "source": [
    "x = [1,2,3]\n",
    "\n",
    "for i in x:\n",
    "    pass\n",
    "\n",
    "print(\"End of the Script\")"
   ]
  },
  {
   "cell_type": "code",
   "execution_count": 10,
   "id": "fedaff87",
   "metadata": {},
   "outputs": [],
   "source": [
    "my_string = 'nayan rajani'"
   ]
  },
  {
   "cell_type": "code",
   "execution_count": 11,
   "id": "dfc9de6a",
   "metadata": {},
   "outputs": [
    {
     "name": "stdout",
     "output_type": "stream",
     "text": [
      "n\n",
      "y\n",
      "n\n",
      " \n",
      "r\n",
      "j\n",
      "n\n",
      "i\n"
     ]
    }
   ],
   "source": [
    "for letter in my_string:\n",
    "    if letter == 'a':\n",
    "        continue\n",
    "    print(letter)"
   ]
  },
  {
   "cell_type": "code",
   "execution_count": 12,
   "id": "1cdb0ae1",
   "metadata": {},
   "outputs": [
    {
     "name": "stdout",
     "output_type": "stream",
     "text": [
      "n\n"
     ]
    }
   ],
   "source": [
    "for letter in my_string:\n",
    "    if letter == 'a':\n",
    "        break\n",
    "    print(letter)"
   ]
  },
  {
   "cell_type": "code",
   "execution_count": 13,
   "id": "f86693dc",
   "metadata": {},
   "outputs": [
    {
     "name": "stdout",
     "output_type": "stream",
     "text": [
      "n\n",
      "a\n",
      "y\n",
      "a\n",
      "n\n",
      " \n",
      "r\n",
      "a\n",
      "j\n",
      "a\n",
      "n\n",
      "i\n"
     ]
    }
   ],
   "source": [
    "for letter in my_string:\n",
    "    if letter == 'a':\n",
    "        pass\n",
    "    print(letter)"
   ]
  },
  {
   "cell_type": "code",
   "execution_count": null,
   "id": "40fb44fc",
   "metadata": {},
   "outputs": [],
   "source": []
  }
 ],
 "metadata": {
  "kernelspec": {
   "display_name": "Python 3 (ipykernel)",
   "language": "python",
   "name": "python3"
  },
  "language_info": {
   "codemirror_mode": {
    "name": "ipython",
    "version": 3
   },
   "file_extension": ".py",
   "mimetype": "text/x-python",
   "name": "python",
   "nbconvert_exporter": "python",
   "pygments_lexer": "ipython3",
   "version": "3.9.12"
  }
 },
 "nbformat": 4,
 "nbformat_minor": 5
}
